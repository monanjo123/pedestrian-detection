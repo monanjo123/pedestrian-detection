{
 "cells": [
  {
   "cell_type": "code",
   "execution_count": 1,
   "metadata": {},
   "outputs": [],
   "source": [
    "import cv2\n",
    "import imutils"
   ]
  },
  {
   "cell_type": "code",
   "execution_count": 2,
   "metadata": {},
   "outputs": [],
   "source": [
    "bodyCascade = cv2.CascadeClassifier('Haarcascades/haarcascade_fullbody.xml')\n",
    "carCascade = cv2.CascadeClassifier('Haarcascades/haarcascade_car.xml')\n",
    "def bodyDetect(image, bodyCascade=bodyCascade, scaleFactor=1.1, minNeighbors=5, minSize=(30, 30)):\n",
    "    rect = bodyCascade.detectMultiScale(\n",
    "        image,\n",
    "        scaleFactor=scaleFactor,\n",
    "        minNeighbors=minNeighbors,\n",
    "        minSize=minSize,\n",
    "        flags=cv2.CASCADE_SCALE_IMAGE\n",
    "    )\n",
    "    return rect\n",
    "def carDetect(image, carCascade=carCascade, scaleFactor=1.1, minNeighbors=5, minSize=(30, 30)):\n",
    "    rect = carCascade.detectMultiScale(\n",
    "        image,\n",
    "        scaleFactor=scaleFactor,\n",
    "        minNeighbors=minNeighbors,\n",
    "        minSize=minSize,\n",
    "        flags=cv2.CASCADE_SCALE_IMAGE\n",
    "    )\n",
    "    return rect\n"
   ]
  },
  {
   "cell_type": "code",
   "execution_count": 30,
   "metadata": {},
   "outputs": [],
   "source": [
    "# load video\n",
    "\n",
    "cap = cv2.VideoCapture('walking.avi')\n",
    "\n",
    "while cap.isOpened():\n",
    "    ret, frame = cap.read()\n",
    "    # process video\n",
    "    gray = cv2.cvtColor(frame, cv2.COLOR_BGR2GRAY)\n",
    "    frameClone = frame.copy()\n",
    "    \n",
    "    bodyRects = bodyDetect(gray, scaleFactor=1.25, minNeighbors=5)\n",
    "    \n",
    "    for (x , y, w, h) in bodyRects:\n",
    "        cv2.rectangle(frameClone, (x,y) , (x + w , y + h ) , (0, 255, 0) , 2)\n",
    "    \n",
    "    cv2.imshow('Pedestrian Detection', frameClone)\n",
    "    if cv2.waitKey(1) == 13:\n",
    "        break\n",
    "        \n",
    "cap.release()\n",
    "cv2.destroyAllWindows()"
   ]
  },
  {
   "cell_type": "code",
   "execution_count": 9,
   "metadata": {},
   "outputs": [],
   "source": [
    "cap = cv2.VideoCapture('cars.avi')\n",
    "\n",
    "while cap.isOpened():\n",
    "    ret , frame = cap.read()\n",
    "    gray = cv2.cvtColor(frame, cv2.COLOR_BGR2GRAY)\n",
    "    frameClone = frame.copy()\n",
    "    \n",
    "    carRects = carDetect(gray, minNeighbors=2, minSize=(10,10))\n",
    "    \n",
    "    for (x, y, w, h) in carRects:\n",
    "        cv2.rectangle(frameClone, (x,y) , (x+w,y+h), (0, 255 ,0 ), 2)\n",
    "    \n",
    "    cv2.imshow('Cars Detection', frameClone)\n",
    "    if cv2.waitKey(1) == 13:\n",
    "        break\n",
    "        \n",
    "cap.release()\n",
    "cv2.destroyAllWindows()"
   ]
  }
 ],
 "metadata": {
  "kernelspec": {
   "display_name": "Python 3",
   "language": "python",
   "name": "python3"
  },
  "language_info": {
   "codemirror_mode": {
    "name": "ipython",
    "version": 3
   },
   "file_extension": ".py",
   "mimetype": "text/x-python",
   "name": "python",
   "nbconvert_exporter": "python",
   "pygments_lexer": "ipython3",
   "version": "3.6.4"
  }
 },
 "nbformat": 4,
 "nbformat_minor": 2
}
